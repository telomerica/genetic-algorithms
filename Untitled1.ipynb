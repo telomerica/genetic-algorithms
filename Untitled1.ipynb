{
 "cells": [
  {
   "cell_type": "code",
   "execution_count": 1,
   "id": "43f4dbc1",
   "metadata": {},
   "outputs": [],
   "source": [
    "import numpy as np\n",
    "import random"
   ]
  },
  {
   "cell_type": "markdown",
   "id": "b139b6fa",
   "metadata": {},
   "source": [
    "### chess problem"
   ]
  },
  {
   "cell_type": "code",
   "execution_count": 2,
   "id": "418ce303",
   "metadata": {},
   "outputs": [],
   "source": [
    "def generate_new_board():\n",
    "    board = np.zeros((8,8))\n",
    "    lt = np.array([[\"a\",\"b\",\"c\",\"d\",\"e\",\"f\",\"g\",\"h\"],[1,2,3,4,5,6,7,8]])\n",
    "    return board,lt\n",
    "board,lt = generate_new_board()"
   ]
  },
  {
   "cell_type": "code",
   "execution_count": 12,
   "id": "3231cd32",
   "metadata": {},
   "outputs": [],
   "source": [
    "def generate_number_of_boards(number,typ):\n",
    "    list_of_boards = []\n",
    "    for x in range(number):\n",
    "        board,lt = generate_new_board()\n",
    "        if typ==\"heuristic\":\n",
    "            y = eight_heuristic_spots(board,lt)\n",
    "        elif typ==\"random\":\n",
    "            y = eight_random_spots(board,lt)\n",
    "        list_of_boards.append(y)\n",
    "    return list_of_boards"
   ]
  },
  {
   "cell_type": "code",
   "execution_count": 3,
   "id": "0e665cbb",
   "metadata": {},
   "outputs": [],
   "source": [
    "def place_queen(board,letter,number):\n",
    "    ltr_i = np.where(lt[0]==letter)[0][0]\n",
    "    nmr_i = np.where(lt[1]==str(number))[0][0]\n",
    "    nmr_i = np.abs(nmr_i-7)\n",
    "    arr = board\n",
    "    np.put(arr[nmr_i],[ltr_i],1)\n",
    "    return arr"
   ]
  },
  {
   "cell_type": "code",
   "execution_count": 4,
   "id": "d5564cec",
   "metadata": {},
   "outputs": [],
   "source": [
    "def eight_random_spots(board,lt):\n",
    "    ls = []\n",
    "    for x in range(8): #generate 8 random spots\n",
    "        ls.append((lt[0][random.randint(0,7)],random.randint(1,8)))\n",
    "    for x in ls:\n",
    "        place_queen(board,x[0],x[1])\n",
    "    return (ls)"
   ]
  },
  {
   "cell_type": "code",
   "execution_count": 5,
   "id": "2e450abe",
   "metadata": {},
   "outputs": [],
   "source": [
    "def eight_heuristic_spots(board,lt):\n",
    "    numbers = np.random.choice(lt[1],8,replace=False)\n",
    "    letters = np.random.choice(lt[0],8,replace=False)\n",
    "    ls=[]\n",
    "    for i,x in enumerate(letters):\n",
    "        ls.append((x,numbers[i]))\n",
    "    for x in ls:\n",
    "        place_queen(board,x[0],x[1])\n",
    "    return (board)"
   ]
  },
  {
   "cell_type": "code",
   "execution_count": 6,
   "id": "a0d6f8da",
   "metadata": {},
   "outputs": [],
   "source": [
    "def check(board,lt):\n",
    "    ls=[]\n",
    "    diagonal_collisions = 0\n",
    "    linear_collisions = 0\n",
    "    \n",
    "    diags = [board[::-1,:].diagonal(i) for i in range(-board.shape[0]+1,board.shape[1])]\n",
    "    diags.extend(board.diagonal(i) for i in range(board.shape[1]-1,-board.shape[0],-1))\n",
    "    \n",
    "    for diagonal in diags:\n",
    "        y = np.flip(diagonal)\n",
    "        ls.append(y) \n",
    " \n",
    "    for lst in ls:\n",
    "        count = 0\n",
    "        for x in lst:\n",
    "            if x ==1:\n",
    "                count+=1\n",
    "        if count>1:\n",
    "            diagonal_collisions+=count\n",
    "    \n",
    "    for line in board:\n",
    "        count=0\n",
    "        for x in line:\n",
    "            if x ==1:\n",
    "                count+=1\n",
    "        if count>1:\n",
    "            linear_collisions+=count\n",
    "    \n",
    "    for x in range(8):\n",
    "        count = 0\n",
    "        column = (board[:,x])\n",
    "        for x in column:\n",
    "            if x ==1:\n",
    "                count+=1\n",
    "        if count>1:\n",
    "            linear_collisions+=count\n",
    "        \n",
    "    total_count = linear_collisions + diagonal_collisions\n",
    "    return total_count"
   ]
  },
  {
   "cell_type": "code",
   "execution_count": 33,
   "id": "bedb7768",
   "metadata": {},
   "outputs": [],
   "source": [
    "def recombinate(mom,dad,mutate):\n",
    "    half = int((len(mom))/2)\n",
    "    \n",
    "    mom_halfs = np.split(mom,2)\n",
    "    dad_halfs = np.split(dad,2)\n",
    "    \n",
    "    #mom_vhalfs = np.split(mom,2)\n",
    "    #dad_vhalfs = np.split(dad,2)\n",
    "\n",
    "    son = np.concatenate((mom_halfs[0],dad_halfs[0]))\n",
    "    daughter = np.concatenate((mom_halfs[1],dad_halfs[1]))\n",
    "      \n",
    "    #verticalson = np.concatenate((mom_vhalfs[0],dad_vhalfs[0]))\n",
    "    #verticaldaughter = np.concatenate((mom_vhalfs[1],dad_vhalfs[1]))\n",
    "    \n",
    "    a = [son,daughter]\n",
    "    \n",
    "    if mutate==True:\n",
    "        for x in a:\n",
    "            if random.random()<0.8:\n",
    "                np.random.shuffle(x[random.randint(0,7)]) \n",
    "    \n",
    "    return a"
   ]
  },
  {
   "cell_type": "code",
   "execution_count": null,
   "id": "64ba4574",
   "metadata": {},
   "outputs": [],
   "source": []
  },
  {
   "cell_type": "code",
   "execution_count": 34,
   "id": "38af2fb7",
   "metadata": {},
   "outputs": [],
   "source": [
    "def replace(list_of_boards):\n",
    "    scores = []\n",
    "    dc = {}\n",
    "    for x in list_of_boards:\n",
    "        scores.append(check(x,lt))\n",
    "    for i,x in enumerate(scores):\n",
    "        dc[x]=i\n",
    "    scores.sort()\n",
    "\n",
    "    a=(recombinate(list_of_boards[dc.get(scores[0])],list_of_boards[dc.get(scores[1])],mutate=True))\n",
    "    \n",
    "    (list_of_boards[dc.get(scores[len(scores)-1])]) = a[0]\n",
    "    (list_of_boards[dc.get(scores[len(scores)-2])]) = a[1]\n",
    "    #(list_of_boards[dc.get(scores[len(scores)-1])]) = a[2]\n",
    "    #(list_of_boards[dc.get(scores[len(scores)-2])]) = a[3]\n",
    "    \n",
    "    return list_of_boards\n"
   ]
  },
  {
   "cell_type": "code",
   "execution_count": 35,
   "id": "5cde9bd2",
   "metadata": {},
   "outputs": [],
   "source": [
    "list_of_boards = generate_number_of_boards(100,\"heuristic\")"
   ]
  },
  {
   "cell_type": "code",
   "execution_count": 37,
   "id": "8f93f41a",
   "metadata": {
    "scrolled": true
   },
   "outputs": [
    {
     "name": "stdout",
     "output_type": "stream",
     "text": [
      "iteration  0 lowest score =  8\n",
      "iteration  100 lowest score =  8\n",
      "iteration  200 lowest score =  8\n",
      "iteration  300 lowest score =  8\n",
      "iteration  400 lowest score =  8\n",
      "iteration  500 lowest score =  8\n",
      "iteration  600 lowest score =  8\n",
      "iteration  700 lowest score =  8\n",
      "iteration  800 lowest score =  8\n",
      "iteration  900 lowest score =  8\n"
     ]
    }
   ],
   "source": [
    "for x in range(1000):\n",
    "    if x%100 == 0:\n",
    "        print(\"iteration \",x,\"lowest score = \",check(list_of_boards[0],lt))\n",
    "    list_of_boards = replace(list_of_boards)"
   ]
  },
  {
   "cell_type": "code",
   "execution_count": 13,
   "id": "41b6379f",
   "metadata": {},
   "outputs": [
    {
     "name": "stdout",
     "output_type": "stream",
     "text": [
      "[[0. 0. 0. 0. 1. 0. 0. 0.]\n",
      " [1. 0. 0. 0. 0. 0. 0. 0.]\n",
      " [0. 0. 0. 0. 0. 0. 0. 1.]\n",
      " [0. 0. 0. 0. 0. 0. 1. 0.]\n",
      " [0. 0. 0. 1. 0. 0. 0. 0.]\n",
      " [0. 1. 0. 0. 0. 0. 0. 0.]\n",
      " [0. 0. 0. 0. 0. 1. 0. 0.]\n",
      " [0. 0. 1. 0. 0. 0. 0. 0.]]\n",
      "6\n"
     ]
    }
   ],
   "source": [
    "print(list_of_boards[0])\n",
    "print(check(list_of_boards[0],lt))"
   ]
  },
  {
   "cell_type": "code",
   "execution_count": null,
   "id": "3705843f",
   "metadata": {},
   "outputs": [],
   "source": [
    "board = generate_number_of_boards(1,\"heuristic\")\n",
    "board = board[0]\n",
    "print(board)\n",
    "i=0\n",
    "while i<4:\n",
    "    np.random.shuffle(board[i])\n",
    "    i+=1\n",
    "print(\"\\n\",board)"
   ]
  },
  {
   "cell_type": "code",
   "execution_count": 26,
   "id": "4c8e4cd2",
   "metadata": {},
   "outputs": [
    {
     "name": "stdout",
     "output_type": "stream",
     "text": [
      "[[0. 0. 0. 0. 0. 0. 0. 0.]\n",
      " [0. 0. 0. 0. 0. 0. 0. 0.]\n",
      " [0. 0. 0. 0. 0. 0. 0. 0.]\n",
      " [0. 0. 0. 0. 0. 0. 0. 0.]\n",
      " [0. 0. 0. 0. 0. 0. 0. 0.]\n",
      " [0. 0. 0. 0. 0. 0. 0. 0.]\n",
      " [0. 0. 0. 0. 0. 0. 0. 0.]\n",
      " [0. 0. 0. 0. 0. 0. 0. 0.]]\n",
      "[0. 0. 0. 0. 0. 0. 0. 0.]\n",
      "[0. 0. 0. 0. 0. 0. 0. 0.]\n",
      "[0. 0. 0. 0. 0. 0. 0. 0.]\n",
      "[0. 0. 0. 0. 0. 0. 0. 0.]\n",
      "[0. 0. 0. 0. 0. 0. 0. 0.]\n",
      "[0. 0. 0. 0. 0. 0. 0. 0.]\n",
      "[0. 0. 0. 0. 0. 0. 0. 0.]\n",
      "[0. 0. 0. 0. 0. 0. 0. 0.]\n"
     ]
    }
   ],
   "source": [
    "print(board)\n",
    "for x in range(8):\n",
    "    print(board[:,x])"
   ]
  },
  {
   "cell_type": "code",
   "execution_count": null,
   "id": "c19c24b2",
   "metadata": {},
   "outputs": [],
   "source": []
  },
  {
   "cell_type": "code",
   "execution_count": null,
   "id": "2cd4100f",
   "metadata": {},
   "outputs": [],
   "source": []
  }
 ],
 "metadata": {
  "kernelspec": {
   "display_name": "Python 3 (ipykernel)",
   "language": "python",
   "name": "python3"
  },
  "language_info": {
   "codemirror_mode": {
    "name": "ipython",
    "version": 3
   },
   "file_extension": ".py",
   "mimetype": "text/x-python",
   "name": "python",
   "nbconvert_exporter": "python",
   "pygments_lexer": "ipython3",
   "version": "3.8.10"
  }
 },
 "nbformat": 4,
 "nbformat_minor": 5
}
