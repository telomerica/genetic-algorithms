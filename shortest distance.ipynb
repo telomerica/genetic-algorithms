{
 "cells": [
  {
   "cell_type": "code",
   "execution_count": 1,
   "id": "0894a889",
   "metadata": {},
   "outputs": [],
   "source": [
    "import random\n",
    "import numpy as np\n",
    "import matplotlib.pyplot as plt"
   ]
  },
  {
   "cell_type": "code",
   "execution_count": 2,
   "id": "6179d069",
   "metadata": {},
   "outputs": [],
   "source": [
    "def generate_space(points,width):\n",
    "    ls = []\n",
    "    for x in range(0,points):\n",
    "        a = [random.randrange(1,width+1),random.randrange(1,width+1)] #you need to make it so that it doesnt generate two on the same spot\n",
    "        ls.append(a)\n",
    "    return (np.array(ls))"
   ]
  },
  {
   "cell_type": "code",
   "execution_count": 3,
   "id": "a18a5b5e",
   "metadata": {},
   "outputs": [],
   "source": [
    "def plot(coordinates):\n",
    "    xs = []\n",
    "    ys = []\n",
    "    for x in coordinates:\n",
    "        xs.append(x[0]) #doesnt really matter which you take as x and which you take as y\n",
    "        ys.append(x[1])\n",
    "    plt.scatter(xs,ys)\n",
    "    for i,ğ in enumerate(coordinates):\n",
    "        #plt.annotate(i,(xs[i],ys[i]))\n",
    "        plt.annotate(f\"{i} ({xs[i]},{ys[i]})\",(xs[i],ys[i]))\n",
    "    plt.gcf().set_size_inches(10, 10)\n",
    "    plt.show()"
   ]
  },
  {
   "cell_type": "code",
   "execution_count": 4,
   "id": "432812cb",
   "metadata": {},
   "outputs": [],
   "source": [
    "def check(space,individual):\n",
    "    total = 0\n",
    "    \n",
    "    for i,x1 in enumerate(individual):\n",
    "        if i+1<len(individual):\n",
    "            current = (space[x1])\n",
    "            next_ = space[individual[i+1]]\n",
    "            distance = np.linalg.norm((current-next_))\n",
    "            total+=distance             \n",
    "    \n",
    "    return total"
   ]
  },
  {
   "cell_type": "code",
   "execution_count": 5,
   "id": "e3bfaef5",
   "metadata": {},
   "outputs": [],
   "source": [
    "def generate_population(amount,points):\n",
    "    population = np.arange(points)\n",
    "    for individual in range(amount-1):\n",
    "        a = np.arange(points)\n",
    "        np.random.shuffle(a)\n",
    "        population = np.vstack((population,a))\n",
    "    return population"
   ]
  },
  {
   "cell_type": "code",
   "execution_count": 16,
   "id": "6c278276",
   "metadata": {},
   "outputs": [],
   "source": [
    "def generate_pc(cities,width,individuals):\n",
    "    coordinates = generate_space(cities,width)\n",
    "    population = generate_population(individuals,cities)\n",
    "    return coordinates,population"
   ]
  },
  {
   "cell_type": "code",
   "execution_count": 26,
   "id": "e9052c63",
   "metadata": {},
   "outputs": [],
   "source": [
    "def variation(population,conditions,optional=None):\n",
    "    \n",
    "    if conditions==\"shuffle\":\n",
    "        mom = population[0]\n",
    "        length = len(mom)\n",
    "        crossover_point = np.random.randint(0,length-1)\n",
    "        m_piece1 = mom[crossover_point:length]\n",
    "        m_piece2 = mom[0:crossover_point]\n",
    "        \n",
    "        d_piece1=[]\n",
    "        d_piece2=[]\n",
    "        \n",
    "        for x in m_piece2:\n",
    "            d_piece2.append(x)\n",
    "        for x in m_piece1:\n",
    "            d_piece1.append(x)\n",
    "        \n",
    "        d_piece1=np.array(d_piece1)\n",
    "        d_piece2=np.array(d_piece2)\n",
    "        \n",
    "        np.random.shuffle(d_piece1)\n",
    "        np.random.shuffle(d_piece2)\n",
    "        \n",
    "        a = [np.concatenate((d_piece2,m_piece1)),np.concatenate((m_piece2,d_piece1))]\n",
    "                    \n",
    "        return a\n",
    "    \n",
    "    elif conditions==\"ordercrossover\":\n",
    "        mom = population[0]\n",
    "        dad = population[1]\n",
    "        length = len(mom)\n",
    "        m_piece1 = mom[np.random.randint(0,length-1):length]\n",
    "        \n",
    "        for x in m_piece1:\n",
    "            index = np.where(m_piece1 == x)\n",
    "            index2 = np.where(dad == x)\n",
    "            dad[index2] = dad[index]\n",
    "            dad[index] = x\n",
    "    \n",
    "        return [dad]\n",
    "    \n",
    "    elif conditions==\"partialcrossover\":\n",
    "        \n",
    "        lsn = []\n",
    "        for x in range(10):\n",
    "            lsn.append((np.arange(12)))\n",
    "        for x in ls:\n",
    "            np.random.shuffle(x)\n",
    "        \n",
    "        print(ls[0])\n",
    "        \n",
    "        lsmm = []\n",
    "        for x in ls:\n",
    "            m1,m2,m3,m4 = np.hsplit(x,4)\n",
    "            lsm = [m1,m2,m3,m4]\n",
    "            lsmm.append(lsm)\n",
    "        \n",
    "        for x in lsmm:\n",
    "            for y in x:\n",
    "                print(y)\n",
    "                print(check(coordinates,y))\n",
    "    \n",
    "    "
   ]
  },
  {
   "cell_type": "code",
   "execution_count": 27,
   "id": "6c127850",
   "metadata": {},
   "outputs": [],
   "source": [
    "def train(population,space,iterations,operation):\n",
    "    history = []\n",
    "    for iteration in range(iterations):\n",
    "        \n",
    "        total_distances = np.zeros(len(population))\n",
    "        dc = {}\n",
    "        for i,individual in enumerate(population):\n",
    "            total_distance = check(space,individual)\n",
    "            total_distances[i] = total_distance\n",
    "            dc[total_distance] = i\n",
    "        total_distances.sort()        \n",
    "        \n",
    "        ls = []\n",
    "        for x in (total_distances):\n",
    "            ls.append(population[dc.get(x)])\n",
    "        population = np.array(ls)\n",
    "        \n",
    "        a = variation(population,operation)\n",
    "        \n",
    "        for i,x in enumerate(a): \n",
    "            population[-(i+1)]=a[i]\n",
    "                \n",
    "        if iteration%100==0:\n",
    "            lowest = total_distances[0]\n",
    "            print(f\"Iteration {iteration} lowest distance: {lowest}\")\n",
    "            history.append(lowest)\n",
    "            \n",
    "    print(f\"Shortest path found: {population[0]}, distance: {lowest}\")\n",
    "    return history"
   ]
  },
  {
   "cell_type": "code",
   "execution_count": 31,
   "id": "3d79759e",
   "metadata": {},
   "outputs": [
    {
     "data": {
      "image/png": "[encoded data removed]",
      "text/plain": [
       "<Figure size 720x720 with 1 Axes>"
      ]
     },
     "metadata": {
      "needs_background": "light"
     },
     "output_type": "display_data"
    },
    {
     "name": "stdout",
     "output_type": "stream",
     "text": [
      "[11  8  3 42 17 34 33 16 44 20 43 26  6 40  4 27  7 32 41 10 28 13 36 30\n",
      " 24 21 46 37 29  2 15 23 38  5  1 47 19 35 45 12 18 48 22 39 31  0 49 14\n",
      " 25  9]\n"
     ]
    }
   ],
   "source": [
    "coordinates,population = generate_pc(50,100,10)\n",
    "plot(coordinates)"
   ]
  },
  {
   "cell_type": "code",
   "execution_count": 29,
   "id": "ab9eb4a7",
   "metadata": {
    "scrolled": true
   },
   "outputs": [
    {
     "name": "stdout",
     "output_type": "stream",
     "text": [
      "50\n"
     ]
    },
    {
     "ename": "TypeError",
     "evalue": "'NoneType' object is not iterable",
     "output_type": "error",
     "traceback": [
      "\u001b[0;31m---------------------------------------------------------------------------\u001b[0m",
      "\u001b[0;31mTypeError\u001b[0m                                 Traceback (most recent call last)",
      "Input \u001b[0;32mIn [29]\u001b[0m, in \u001b[0;36m<module>\u001b[0;34m\u001b[0m\n\u001b[0;32m----> 1\u001b[0m history \u001b[38;5;241m=\u001b[39m \u001b[43mtrain\u001b[49m\u001b[43m(\u001b[49m\u001b[43mpopulation\u001b[49m\u001b[43m,\u001b[49m\u001b[43mcoordinates\u001b[49m\u001b[43m,\u001b[49m\u001b[38;5;241;43m10000\u001b[39;49m\u001b[43m,\u001b[49m\u001b[38;5;124;43m\"\u001b[39;49m\u001b[38;5;124;43mpartialcrossover\u001b[39;49m\u001b[38;5;124;43m\"\u001b[39;49m\u001b[43m)\u001b[49m\n",
      "Input \u001b[0;32mIn [27]\u001b[0m, in \u001b[0;36mtrain\u001b[0;34m(population, space, iterations, operation)\u001b[0m\n\u001b[1;32m     16\u001b[0m population \u001b[38;5;241m=\u001b[39m np\u001b[38;5;241m.\u001b[39marray(ls)\n\u001b[1;32m     18\u001b[0m a \u001b[38;5;241m=\u001b[39m variation(population,operation)\n\u001b[0;32m---> 20\u001b[0m \u001b[38;5;28;01mfor\u001b[39;00m i,x \u001b[38;5;129;01min\u001b[39;00m \u001b[38;5;28;43menumerate\u001b[39;49m\u001b[43m(\u001b[49m\u001b[43ma\u001b[49m\u001b[43m)\u001b[49m: \n\u001b[1;32m     21\u001b[0m     population[\u001b[38;5;241m-\u001b[39m(i\u001b[38;5;241m+\u001b[39m\u001b[38;5;241m1\u001b[39m)]\u001b[38;5;241m=\u001b[39ma[i]\n\u001b[1;32m     23\u001b[0m \u001b[38;5;28;01mif\u001b[39;00m iteration\u001b[38;5;241m%\u001b[39m\u001b[38;5;241m100\u001b[39m\u001b[38;5;241m==\u001b[39m\u001b[38;5;241m0\u001b[39m:\n",
      "\u001b[0;31mTypeError\u001b[0m: 'NoneType' object is not iterable"
     ]
    }
   ],
   "source": [
    "history = train(population,coordinates,10000,\"partialcrossover\")"
   ]
  },
  {
   "cell_type": "code",
   "execution_count": 12,
   "id": "d40694be",
   "metadata": {},
   "outputs": [
    {
     "data": {
      "text/plain": [
       "[<matplotlib.lines.Line2D at 0x7f3b0e503b20>]"
      ]
     },
     "execution_count": 12,
     "metadata": {},
     "output_type": "execute_result"
    },
    {
     "data": {
      "image/png": "[encoded data removed]",
      "text/plain": [
       "<Figure size 432x288 with 1 Axes>"
      ]
     },
     "metadata": {
      "needs_background": "light"
     },
     "output_type": "display_data"
    }
   ],
   "source": [
    "plt.plot(history)"
   ]
  },
  {
   "cell_type": "code",
   "execution_count": 134,
   "id": "e4447e3e",
   "metadata": {},
   "outputs": [
    {
     "name": "stdout",
     "output_type": "stream",
     "text": [
      "[10  9  8  7  6  5  4  3  2  1]\n",
      "[ 1  2  3  4  5  6  7  8  9 10]\n",
      "[ 1  2  3  4  5  6  7  8  9 10]\n"
     ]
    }
   ],
   "source": [
    "parents = np.array([[1,2,3,4,5,6,7,8,9,10],[10,9,8,7,6,5,4,3,2,1]])\n",
    "mom = parents[0]\n",
    "dad = parents[1]\n",
    "length = len(mom)\n",
    "print(dad)\n",
    "m_piece1 = mom[np.random.randint(0,length-1):length]\n",
    "\n",
    "for x in m_piece1:\n",
    "    index = np.where(m_piece1 == x)\n",
    "    index2 = np.where(dad == x)\n",
    "    dad[index2] = dad[index]\n",
    "    dad[index] = x\n",
    "\n",
    "print(m_piece1)\n",
    "print(dad)\n"
   ]
  },
  {
   "cell_type": "code",
   "execution_count": 112,
   "id": "0a62ea87",
   "metadata": {},
   "outputs": [],
   "source": [
    "def check(space,individual):\n",
    "    total = 0\n",
    "    for i,x1 in enumerate(individual):\n",
    "        if i+1<len(individual):\n",
    "            current = (space[x1])\n",
    "            next_ = space[individual[i+1]]\n",
    "            distance = np.linalg.norm((current-next_))\n",
    "            total+=distance\n",
    "            \n",
    "            print(current,next_,distance)\n",
    "            \n",
    "    return total"
   ]
  },
  {
   "cell_type": "code",
   "execution_count": 113,
   "id": "ef4050fa",
   "metadata": {},
   "outputs": [
    {
     "name": "stdout",
     "output_type": "stream",
     "text": [
      "[5 2] [3 6] 4.47213595499958\n",
      "[3 6] [8 1] 7.0710678118654755\n",
      "[8 1] [5 9] 8.54400374531753\n",
      "[5 9] [9 5] 5.656854249492381\n"
     ]
    }
   ],
   "source": [
    "a = check(coordinates,np.array([1,2,3,0,4]))\n",
    "#print(a)\n",
    "#a = check(coordinates,np.array([2,0,1,3,4]))\n",
    "#print(a)"
   ]
  },
  {
   "cell_type": "code",
   "execution_count": 99,
   "id": "52b7a832",
   "metadata": {},
   "outputs": [
    {
     "data": {
      "image/png": "[encoded data removed]",
      "text/plain": [
       "<Figure size 720x720 with 1 Axes>"
      ]
     },
     "metadata": {
      "needs_background": "light"
     },
     "output_type": "display_data"
    }
   ],
   "source": [
    "plot(coordinates)"
   ]
  },
  {
   "cell_type": "code",
   "execution_count": 57,
   "id": "0e7de0f1",
   "metadata": {},
   "outputs": [
    {
     "name": "stdout",
     "output_type": "stream",
     "text": [
      "{'1': 0, '2': 1, '3': 2, '4': 3, '5': 4, '6': 5, '7': 6}\n"
     ]
    }
   ],
   "source": [
    "ls = np.array([1,2,3,4,5,6,7])\n",
    "dc = {}\n",
    "for index,x in enumerate(ls):\n",
    "    dc[str(x)]=index\n",
    "print(dc)"
   ]
  },
  {
   "cell_type": "code",
   "execution_count": null,
   "id": "336b410c",
   "metadata": {},
   "outputs": [],
   "source": []
  },
  {
   "cell_type": "code",
   "execution_count": 58,
   "id": "552c1895",
   "metadata": {},
   "outputs": [
    {
     "name": "stdout",
     "output_type": "stream",
     "text": [
      "[0 1 2 3 4] [5 6 7 8 9]\n"
     ]
    }
   ],
   "source": [
    "x=np.arange(10)\n",
    "a,b = np.hsplit(x,2)\n",
    "print(a,b)"
   ]
  },
  {
   "cell_type": "code",
   "execution_count": 56,
   "id": "46704ce7",
   "metadata": {
    "scrolled": true
   },
   "outputs": [
    {
     "name": "stdout",
     "output_type": "stream",
     "text": [
      "[ 7  5  4  9  0  8 10  2  6 11  1  3]\n",
      "[7 5 4]\n",
      "103.42636190133395\n",
      "[9 0 8]\n",
      "118.96778192199318\n",
      "[10  2  6]\n",
      "141.00767763809858\n",
      "[11  1  3]\n",
      "29.65247584249853\n",
      "[8 5 4]\n",
      "134.27151698709883\n",
      "[3 6 0]\n",
      "48.8997993755502\n",
      "[ 9  7 11]\n",
      "161.8593069750995\n",
      "[10  1  2]\n",
      "100.39279484271874\n",
      "[9 8 2]\n",
      "119.48655588361206\n",
      "[11  4  6]\n",
      "95.00341082179472\n",
      "[1 5 3]\n",
      "166.22260876325473\n",
      "[ 7 10  0]\n",
      "136.34884263688144\n",
      "[10  6  9]\n",
      "135.8353808272667\n",
      "[4 3 8]\n",
      "72.25038428916596\n",
      "[7 1 0]\n",
      "87.09112516567805\n",
      "[ 2 11  5]\n",
      "160.25754563287887\n",
      "[ 7 11  9]\n",
      "140.33105402866408\n",
      "[ 8 10  4]\n",
      "108.35335239699715\n",
      "[0 6 2]\n",
      "87.69756745308199\n",
      "[5 3 1]\n",
      "98.86906072796472\n",
      "[8 6 1]\n",
      "55.85708899564575\n",
      "[10  9  2]\n",
      "91.55354319025557\n",
      "[11  7  3]\n",
      "148.20340327802407\n",
      "[4 0 5]\n",
      "150.89342516350018\n",
      "[10  7  2]\n",
      "113.57740552173793\n",
      "[5 1 4]\n",
      "118.74116064819981\n",
      "[3 9 6]\n",
      "124.34753334778576\n",
      "[ 0 11  8]\n",
      "54.20940119651634\n",
      "[5 4 0]\n",
      "108.09486805398755\n",
      "[11  3  7]\n",
      "86.84938588780878\n",
      "[ 6 10  1]\n",
      "108.38660155369604\n",
      "[2 8 9]\n",
      "119.48655588361206\n",
      "[ 8 10  0]\n",
      "119.68998342348296\n",
      "[6 4 9]\n",
      "80.96177081043379\n",
      "[1 3 7]\n",
      "86.84938588780878\n",
      "[ 5 11  2]\n",
      "160.25754563287887\n",
      "[5 3 0]\n",
      "104.025236932151\n",
      "[ 4  7 10]\n",
      "154.646457353706\n",
      "[1 2 9]\n",
      "115.89669804822417\n",
      "[ 6  8 11]\n",
      "82.06395735021167\n"
     ]
    }
   ],
   "source": [
    "ls = []\n",
    "for x in range(10):\n",
    "    ls.append((np.arange(12)))\n",
    "for x in ls:\n",
    "    np.random.shuffle(x)\n",
    "\n",
    "print(ls[0])\n",
    "\n",
    "lsmm = []\n",
    "for x in ls:\n",
    "    m1,m2,m3,m4 = np.hsplit(x,4)\n",
    "    lsm = [m1,m2,m3,m4]\n",
    "    lsmm.append(lsm)\n",
    "\n",
    "for x in lsmm:\n",
    "    for y in x:\n",
    "        print(y)\n",
    "        print(check(coordinates,y))"
   ]
  },
  {
   "cell_type": "code",
   "execution_count": 63,
   "id": "653fd605",
   "metadata": {},
   "outputs": [
    {
     "name": "stdout",
     "output_type": "stream",
     "text": [
      "[ 8  2  9  5  7  3 11  4 10  1  6  0]\n"
     ]
    }
   ],
   "source": [
    "population = []\n",
    "for x in range(10):\n",
    "    population.append((np.arange(12)))\n",
    "for individual in population:\n",
    "    np.random.shuffle(individual)\n",
    "    \n",
    "print(population[0])"
   ]
  },
  {
   "cell_type": "code",
   "execution_count": null,
   "id": "5fbd69cd",
   "metadata": {},
   "outputs": [],
   "source": []
  }
 ],
 "metadata": {
  "kernelspec": {
   "display_name": "Python 3 (ipykernel)",
   "language": "python",
   "name": "python3"
  },
  "language_info": {
   "codemirror_mode": {
    "name": "ipython",
    "version": 3
   },
   "file_extension": ".py",
   "mimetype": "text/x-python",
   "name": "python",
   "nbconvert_exporter": "python",
   "pygments_lexer": "ipython3",
   "version": "3.8.10"
  }
 },
 "nbformat": 4,
 "nbformat_minor": 5
}
